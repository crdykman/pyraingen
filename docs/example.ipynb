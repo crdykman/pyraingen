{
 "cells": [
  {
   "cell_type": "markdown",
   "metadata": {},
   "source": [
    "# Example usage\n",
    "\n",
    "To use `pyraingen` in a project:"
   ]
  },
  {
   "cell_type": "markdown",
   "metadata": {
    "scrolled": true
   },
   "source": [
    "```python\n",
    "import pyraingen\n",
    "\n",
    "print(pyraingen.__version__)\n",
    "```"
   ]
  },
  {
   "cell_type": "markdown",
   "metadata": {},
   "source": [
    "## Generate Daily Rainfall"
   ]
  },
  {
   "cell_type": "markdown",
   "metadata": {},
   "source": [
    "NB: The `regionaliseddailysim` backend is written in fortran and must be compiled prior to using. A precompiled version for Python 3.8.5 on Windows 64 has been provided with the package, however, if you are using macOS or Linux you will have to use f2py to compile a version suitable for your operating system. If you are on windows it is highly recommened that you create an environment using python 3.8.5 and use the precompiled version. \n",
    "If you wish to use another version of python it will require you to compile a version suited to that python version. It is recommened that you use MSYS2 to download MinGW and then download the MinGW toolchain `mingw-w64-x86_64-toolchain` which contains the needed C and fortran compiler. Remeber to add the folder (e.g. `C:\\msys64\\mingw64\\bin`) to your user environment variables path.\n",
    "\n",
    "Use the inbuilt function `pyraingen.get_for_path()` to get the path to the fortran script and change, or point, to that directory to compile. Use the following commands in the cmd prompt.\n",
    "\n",
    "`python -m numpy.f2py -c regionalised_daily.for -m regionalised_daily --fcompiler=gnu95 --compiler=mingw32`"
   ]
  },
  {
   "cell_type": "markdown",
   "metadata": {},
   "source": [
    "```python\n",
    "from pyraingen.regionaliseddailysim import regionaliseddailysim\n",
    "\n",
    "nyears = 79\n",
    "startyear = 1930\n",
    "nsim = 10\n",
    "targetidx = 66037 \n",
    "targetlat = -33.9410 \n",
    "targetlon = 151.1730 \n",
    "targetelev = 6.00 \n",
    "targetdcoast = 0.27 \n",
    "targetanrf = 1086.71\n",
    "data_path = \"C:/Users/user/daily_data/\"\n",
    "output_path_txt = \"mmm_066037.out\"\n",
    "output_path_nc='daily_066037.nc'\n",
    "\n",
    "regionaliseddailysim(nyears, startyear, nsim,\n",
    "                    targetidx, targetlat, targetlon, \n",
    "                    targetelev, targetdcoast, targetanrf,\n",
    "                    data_path, output_path_txt, output_path_nc)\n",
    "```"
   ]
  },
  {
   "cell_type": "markdown",
   "metadata": {},
   "source": [
    "## Perform Subdaily Disaggregation"
   ]
  },
  {
   "cell_type": "markdown",
   "metadata": {},
   "source": [
    "Import and use the inbuilt functions `get_index()` and `get_coeffs()` to get the paths to data included as part of the `pyraingen` package that is necessary for it to run."
   ]
  },
  {
   "cell_type": "markdown",
   "metadata": {},
   "source": [
    "```python\n",
    "from pyraingen.regionalisedsubdailysim import regionalisedsubdailysim\n",
    "from pyraingen.get_coeffs import get_coeffs\n",
    "from pyraingen.get_index import get_index\n",
    "\n",
    "fnameInput = \"C:/Users/user/data/daily_66037.nc\"\n",
    "pathSubDaily = \"C:/Users/user/data/sub_daily_netcdf\"\n",
    "pathReference = \"C:/Users/user/data/daily_netcdf\"\n",
    "pathIndex = get_index()\n",
    "pathCoeff = get_coeffs()\n",
    "targetIndex = 66037\n",
    "fnameSubDaily = \"C:/Users/z3460382/data/subdaily_66037.nc\"\n",
    "\n",
    "regionalisedsubdailysim(fnameInput, pathSubDaily, pathReference, \n",
    "                        pathIndex,  pathCoeff, targetIndex, fnameSubDaily,\n",
    "                        nSims = 10):\n",
    "```"
   ]
  },
  {
   "cell_type": "markdown",
   "metadata": {},
   "source": [
    "## Constrain IFDs"
   ]
  },
  {
   "cell_type": "markdown",
   "metadata": {},
   "source": [
    "`TargetIFD` data should be a csv file with size (rows = durations, cols = Frequencies). No headers or row labels."
   ]
  },
  {
   "cell_type": "markdown",
   "metadata": {},
   "source": [
    "```python\n",
    "from pyraingen.ifdcond import ifdcond\n",
    "\n",
    "fileNameInput = \"C:/Users/user/data/subdaily_66037.nc\"\n",
    "fileNameOutput = \"C:/Users/user/data/cond_subdaily_66037.nc\"\n",
    "fileNameTargetIFD = \"C:/Users/user/data/66037_ifds.csv\"\n",
    "\n",
    "ifdcond(fileNameInput, fileNameOutput, fileNameTargetIFD, \n",
    "            nSims=10)\n",
    "```"
   ]
  }
 ],
 "metadata": {
  "kernelspec": {
   "display_name": "Python 3 (ipykernel)",
   "language": "python",
   "name": "python3"
  },
  "language_info": {
   "codemirror_mode": {
    "name": "ipython",
    "version": 3
   },
   "file_extension": ".py",
   "mimetype": "text/x-python",
   "name": "python",
   "nbconvert_exporter": "python",
   "pygments_lexer": "ipython3",
   "version": "3.8.5"
  }
 },
 "nbformat": 4,
 "nbformat_minor": 4
}
