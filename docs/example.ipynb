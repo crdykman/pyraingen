{
 "cells": [
  {
   "cell_type": "markdown",
   "metadata": {},
   "source": [
    "# Example usage\n",
    "\n",
    "To use `pyraingen` in a project:"
   ]
  },
  {
   "cell_type": "markdown",
   "metadata": {
    "scrolled": true
   },
   "source": [
    "```python\n",
    "import pyraingen\n",
    "\n",
    "print(pyraingen.__version__)\n",
    "```"
   ]
  },
  {
   "cell_type": "markdown",
   "metadata": {},
   "source": [
    "## Get Example Data"
   ]
  },
  {
   "cell_type": "markdown",
   "metadata": {},
   "source": [
    "Use the built-in function `pyraingen.get_example_data()` to copy the datasets used for the below examples to the directory of your choice. The defeault is to copy the data to the current working directory. Do not change any of the file names."
   ]
  },
  {
   "cell_type": "markdown",
   "metadata": {},
   "source": [
    "```python\n",
    "from pyraingen.get_example_data import get_example_data\n",
    "\n",
    "get_example_data(daily=True, subdaily=True, ifd=True)\n",
    "```"
   ]
  },
  {
   "cell_type": "markdown",
   "metadata": {},
   "source": [
    "## Generate Daily Rainfall"
   ]
  },
  {
   "cell_type": "markdown",
   "metadata": {},
   "source": [
    "NB: The `regionaliseddailysim` backend is written in fortran and must be compiled prior to using. A precompiled version for Python 3.8.5 on Windows 64 has been provided with the package, however, if you are using macOS or Linux you will have to use f2py to compile a version suitable for your operating system. If you are on windows it is highly recommened that you create an environment using python 3.8.5 and use the precompiled version. \n",
    "If you wish to use another version of python it will require you to compile a version suited to that python version. It is recommened that you use MSYS2 to download MinGW and then download the MinGW toolchain `mingw-w64-x86_64-toolchain` which contains the needed C and fortran compiler. Remeber to add the folder (e.g. `C:\\msys64\\mingw64\\bin`) to your user environment variables path.\n",
    "\n",
    "Use the inbuilt function `pyraingen.get_for_path()` to get the path to the fortran script and change, or point, to that directory to compile. Use the following commands in the cmd prompt.\n",
    "\n",
    "`python -m numpy.f2py -c regionalised_daily.for -m regionalised_daily --fcompiler=gnu95 --compiler=mingw32`\n",
    "\n",
    "\n",
    "Point to the location(s) where you have stored the example data. Please copy the `stn_record.dat` from the example daily data to the working directory where the `regionaliseddailysim` function will be executed from."
   ]
  },
  {
   "cell_type": "markdown",
   "metadata": {},
   "source": [
    "```python\n",
    "from pyraingen.regionaliseddailysim import regionaliseddailysim\n",
    "\n",
    "nyears = 79\n",
    "startyear = 1930\n",
    "nsim = 10\n",
    "targetidx = 66037 \n",
    "targetlat = -33.9410 \n",
    "targetlon = 151.1730 \n",
    "targetelev = 6.00 \n",
    "targetdcoast = 0.27 \n",
    "targetanrf = 1086.71\n",
    "targettemp = 22.40\n",
    "data_path = \"path/to/daily_data/\"\n",
    "\n",
    "regionaliseddailysim(\n",
    "    nyears, startyear, nsim,\n",
    "    targetidx, targetlat, targetlon, \n",
    "    targetelev, targetdcoast, targetanrf,\n",
    "    targettemp, data_path, \n",
    "    output_path_nc='daily.nc',\n",
    "    output_stats=\"stat_.out\", output_val=\"rev_.out\",\n",
    "    cutoff=0.30, wind=15, nstation=5, \n",
    "    nlon=3, lag=1, iamt=1, ival=0, irf=1, rm=1,\n",
    "    getstations=True\n",
    ")\n",
    "```"
   ]
  },
  {
   "cell_type": "markdown",
   "metadata": {},
   "source": [
    "When using `regionaliseddailysim` for applications other than the example use case, you will need to first find the statistically similar \"nearby\" stations and get the necessary daily data in the same format as the example data. When running `regionaliseddailysim` the first time through it will display the calculated nearby stations, or you can use the inbuilt function `station()`.\n",
    "\n",
    "```python\n",
    "from pyraingen.getnearbystations import station\n",
    "\n",
    "param = {}\n",
    "param['nNearStns']       = 5\n",
    "param['pathStnData']     = None  #Use data provided with package\n",
    "param['pathModelCoeffs'] = None  #Use data provided with package\n",
    "param['pathDailyData']   = \"path/to/daily_data/\"\n",
    "\n",
    "target = {}\n",
    "target['index']           = 66037      \n",
    "target['lat']             = -33.9410      \n",
    "target['lon']             = 151.1730    \n",
    "target['elevation']       = 6.00     \n",
    "target['distToCoast']     = 0.27      \n",
    "target['annualRainDepth'] = 1086.71      \n",
    "target['temp']            = 22.40    \n",
    "\n",
    "station(param, target, nAttributes=33,\n",
    "    fout=f'nearby_station_details.out'\n",
    ")\n",
    "```\n",
    "\n",
    "\n",
    "An example of the selected nearby stations used for daily generation from Dykman et al (2024) is displayed below. For further explanation of the selection of nearby stations please refer to Dykman et al (2024)."
   ]
  },
  {
   "cell_type": "markdown",
   "metadata": {
    "vscode": {
     "languageId": "plaintext"
    }
   },
   "source": [
    "![Nearby Subdaily Stations](nearby_stations_daily.png)"
   ]
  },
  {
   "cell_type": "markdown",
   "metadata": {},
   "source": [
    "## Perform Subdaily Disaggregation"
   ]
  },
  {
   "cell_type": "markdown",
   "metadata": {},
   "source": [
    "Point to the location(s) where you have stored the example data."
   ]
  },
  {
   "cell_type": "markdown",
   "metadata": {},
   "source": [
    "```python\n",
    "from pyraingen.regionalisedsubdailysim import regionalisedsubdailysim\n",
    "\n",
    "fnameInput = \"daily.nc\"\n",
    "pathSubDaily = \"path/to/sub_daily_data/\"\n",
    "targetIndex = 66037\n",
    "targetlat = -33.9410 \n",
    "targetlon = 151.1730 \n",
    "targetelev = 6.00 \n",
    "targetdcoast = 0.27 \n",
    "targetanrf = 1086.71\n",
    "targettemp = 22.40\n",
    "fnameSubDaily = \"subdaily.nc\"\n",
    "\n",
    "regionalisedsubdailysim(\n",
    "    fnameInput, pathSubDaily, targetIndex, \n",
    "    pathIndex=None, pathCoeff=None, pathReference=' ', \n",
    "    fnameSubDaily=fnameSubDaily,\n",
    "    minYears=10, nYearsPool=500, dryWetCutoff=0.30,\n",
    "    halfWinLen=15, maxNearNeighb=10, nSims=10,\n",
    "    genSeqOption=3, nYearsRef=50,\n",
    "    absDiffTol=0.1, gso3_lat=targetlat, gso3_lon=targetlon,\n",
    "    gso3_elev=targetelev, gso3_distcoast=targetdcoast, \n",
    "    gso3_anrf=targetanrf, gso3_temp=targettemp\n",
    ")\n",
    "```"
   ]
  },
  {
   "cell_type": "markdown",
   "metadata": {},
   "source": [
    "When using `regionalisedsubdailysim` for applications other than the example use case, you will need to first find the statistically similar \"nearby\" stations and get the necessary subdaily daily data in the same format as the example data. Set ```pathIndex``` and ```pathCoeff``` to NONE to use the paths to data included as part of the `pyraingen` package that is necessary for it to run. Then use the `nearbystations` function to get a list of the set of subdaily station ids for all the seasonal nearest like stations.\n",
    "\n",
    "```python\n",
    "from pyraingen.nearbystations import nearbystations\n",
    "\n",
    "pathIndex = None\n",
    "pathCoeff = None\n",
    "targetIndex = 66037\n",
    "\n",
    "subdailystns = nearbystations(pathIndex, pathCoeff, targetIndex, \n",
    "                                lat=targetlat, lon=targetlon, elev=targetelev, \n",
    "                                distcoast=targetdcoast, anrf=targetanrf, temp=targettemp) \n",
    "```\n",
    "\n",
    "An example of the selected nearby stations used for subdaily dissaggregation for each season from Dykman et al (2024) is displayed below. For further explanation of the selection of nearby stations please refer to Dykman et al (2024)."
   ]
  },
  {
   "cell_type": "markdown",
   "metadata": {
    "vscode": {
     "languageId": "plaintext"
    }
   },
   "source": [
    "![Nearby Subdaily Stations](nearby_stations_subdaily2.png)"
   ]
  },
  {
   "cell_type": "markdown",
   "metadata": {},
   "source": [
    "## Constrain IFDs"
   ]
  },
  {
   "cell_type": "markdown",
   "metadata": {},
   "source": [
    "`TargetIFD` data should be a csv file with size (rows = frequencies, cols = durations). No headers or row labels. Return periods should get smaller down the columns and durations should increase from left to right across the rows. E.g.\n",
    "\n",
    "|  AEP (%) / duration (min) | 30 | 60 | 360 | 720 |\n",
    "| --- | --- | --- | --- | --- |\n",
    "| **2**  |     |    |     |    |\n",
    "| **5**  |    |    |     |    |\n",
    "| **10**  |    |    |     |    |\n",
    "| **20**  |    |    |     |    |\n",
    "| **50**  |    |    |     |    |\n",
    "| **63.20** |    |    |     |    |\n",
    "\n",
    "`TargetIFDdurationsEst` are all the durations present in the TargetIFD file. `TargetIFDdurations` are the durations you wish to condition. \n",
    "\n",
    "Point to the location(s) where you have stored the example data."
   ]
  },
  {
   "cell_type": "markdown",
   "metadata": {},
   "source": [
    "```python\n",
    "from pyraingen.ifdcond import ifdcond\n",
    "\n",
    "fileNameInput =\"subdaily.nc\"\n",
    "fileNameOutput = \"condsubdaily.nc\"\n",
    "fileNameTargetIFD = \"targetifds.csv\"\n",
    "TargetIFDdurationsEst = [30, 60, 360, 720]\n",
    "TargetIFDdurations = [30, 60, 360, 720]\n",
    "AEP = [63.20, 50, 20, 10, 5, 2]\n",
    "\n",
    "ifdcond(fileNameInput, fileNameOutput, fileNameTargetIFD, \n",
    "        nSims=10, TargetIFDdurationsEst=TargetIFDdurationsEst,\n",
    "       TargetIFDdurations=TargetIFDdurations, AEP=AEP, plot=True)\n",
    "```"
   ]
  },
  {
   "cell_type": "markdown",
   "metadata": {},
   "source": [
    "An example of the output plots comparing raw and conditioned IFD data from Dykman et al (2024) are displayed below."
   ]
  },
  {
   "cell_type": "markdown",
   "metadata": {},
   "source": [
    "![ifd cond plot](ifdcond_plot2.png)"
   ]
  }
 ],
 "metadata": {
  "kernelspec": {
   "display_name": "Python 3 (ipykernel)",
   "language": "python",
   "name": "python3"
  },
  "language_info": {
   "codemirror_mode": {
    "name": "ipython",
    "version": 3
   },
   "file_extension": ".py",
   "mimetype": "text/x-python",
   "name": "python",
   "nbconvert_exporter": "python",
   "pygments_lexer": "ipython3",
   "version": "3.8.5"
  }
 },
 "nbformat": 4,
 "nbformat_minor": 4
}
