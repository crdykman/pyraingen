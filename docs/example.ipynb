{
 "cells": [
  {
   "cell_type": "markdown",
   "metadata": {},
   "source": [
    "# Example usage\n",
    "\n",
    "To use `pyraingen` in a project:"
   ]
  },
  {
   "cell_type": "markdown",
   "metadata": {
    "scrolled": true
   },
   "source": [
    "```python\n",
    "import pyraingen\n",
    "\n",
    "print(pyraingen.__version__)\n",
    "```"
   ]
  },
  {
   "cell_type": "markdown",
   "metadata": {},
   "source": [
    "## Get Example Data"
   ]
  },
  {
   "cell_type": "markdown",
   "metadata": {},
   "source": [
    "Use the built-in function `pyraingen.get_example_data()` to copy the datasets used for the below examples to the directory of your choice. The defeault is to copy the data to the current working directory. Do not change any of the file names."
   ]
  },
  {
   "cell_type": "markdown",
   "metadata": {},
   "source": [
    "```python\n",
    "from pyraingen.get_example_data import get_example_data\n",
    "\n",
    "get_example_data(daily=True, subdaily=True, ifd=True)\n",
    "```"
   ]
  },
  {
   "cell_type": "markdown",
   "metadata": {},
   "source": [
    "## Generate Daily Rainfall"
   ]
  },
  {
   "cell_type": "markdown",
   "metadata": {},
   "source": [
    "NB: The `regionaliseddailysim` backend is written in fortran and must be compiled prior to using. A precompiled version for Python 3.8.5 on Windows 64 has been provided with the package, however, if you are using macOS or Linux you will have to use f2py to compile a version suitable for your operating system. If you are on windows it is highly recommened that you create an environment using python 3.8.5 and use the precompiled version. \n",
    "If you wish to use another version of python it will require you to compile a version suited to that python version. It is recommened that you use MSYS2 to download MinGW and then download the MinGW toolchain `mingw-w64-x86_64-toolchain` which contains the needed C and fortran compiler. Remeber to add the folder (e.g. `C:\\msys64\\mingw64\\bin`) to your user environment variables path.\n",
    "\n",
    "Use the inbuilt function `pyraingen.get_for_path()` to get the path to the fortran script and change, or point, to that directory to compile. Use the following commands in the cmd prompt.\n",
    "\n",
    "`python -m numpy.f2py -c regionalised_daily.for -m regionalised_daily --fcompiler=gnu95 --compiler=mingw32`\n",
    "\n",
    "\n",
    "Point to the location(s) where you have stored the example data. Please copy the `stn_record.dat` from the example daily data to the working directory where the `regionaliseddailysim` function will be executed from."
   ]
  },
  {
   "cell_type": "markdown",
   "metadata": {},
   "source": [
    "```python\n",
    "from pyraingen.regionaliseddailysim import regionaliseddailysim\n",
    "\n",
    "nyears = 50\n",
    "startyear = 1967\n",
    "nsim = 10\n",
    "targetidx = 12345 \n",
    "targetlat = -30.7670 \n",
    "targetlon = 148.7420 \n",
    "targetelev = 198.00 \n",
    "targetdcoast = 366.80 \n",
    "targetanrf = 515.28\n",
    "targettemp = 26.10\n",
    "data_path = \"../src/pyraingen/data/example/daily/\"\n",
    "output_path_txt = \"../src/pyraingen/data/example/subdaily/daily_012345.out\"\n",
    "output_path_nc =\"../src/pyraingen/data/example/subdaily/daily_012345.nc\"\n",
    "\n",
    "regionaliseddailysim(nyears, startyear, nsim, targetidx, \n",
    "                    targetlat, targetlon, targetelev, \n",
    "                    targetdcoast, targetanrf, targettemp,\n",
    "                    data_path, output_path_txt=output_path_txt, \n",
    "                    output_path_nc=output_path_nc)\n",
    "```"
   ]
  },
  {
   "cell_type": "markdown",
   "metadata": {},
   "source": [
    "## Perform Subdaily Disaggregation"
   ]
  },
  {
   "cell_type": "markdown",
   "metadata": {},
   "source": [
    "Point to the location(s) where you have stored the example data."
   ]
  },
  {
   "cell_type": "markdown",
   "metadata": {},
   "source": [
    "```python\n",
    "from pyraingen.regionalisedsubdailysim import regionalisedsubdailysim\n",
    "\n",
    "fnameInput = \"../src/pyraingen/data/example/subdaily/daily_012345.nc\"\n",
    "pathSubDaily = \"../src/pyraingen/data/example/subdaily/\"\n",
    "pathIndex = \"../src/pyraingen/data/example/subdaily/index_example.nc\" \n",
    "pathCoeff = \"../src/pyraingen/data/coefficients.dat\"\n",
    "targetIndex = 12345\n",
    "fnameSubDaily = \"../src/pyraingen/data/example/ifd/subdaily_012345.nc\"\n",
    "\n",
    "regionalisedsubdailysim(fnameInput, pathSubDaily, pathIndex,  \n",
    "                        pathCoeff, targetIndex, fnameSubDaily=fnameSubDaily,\n",
    "                        nSims = 10, gso3_lat=-30.7670, gso3_lon=148.7420,\n",
    "                        gso3_elev=198.00, gso3_distcoast=366.80, \n",
    "                        gso3_anrf=515.28, gso3_temp=26.10)\n",
    "```"
   ]
  },
  {
   "cell_type": "markdown",
   "metadata": {},
   "source": [
    "When using `regionalisedsubdailysim` for applications other than the example use case, import and use the inbuilt functions `get_index()` and `get_coeffs()` to get the paths to data included as part of the `pyraingen` package that is necessary for it to run.\n",
    "\n",
    "```python\n",
    "from pyraingen.get_index import get_index\n",
    "from pyraingen.get_coeffs import get_coeffs\n",
    "\n",
    "pathIndex = get_index()\n",
    "pathCoeff = get_coeffs()\n",
    "\n",
    "```"
   ]
  },
  {
   "cell_type": "markdown",
   "metadata": {},
   "source": [
    "## Constrain IFDs"
   ]
  },
  {
   "cell_type": "markdown",
   "metadata": {},
   "source": [
    "`TargetIFD` data should be a csv file with size (rows = frequencies, cols = durations). No headers or row labels. Return periods should get smaller down the columns and durations should increase from left to right across the rows. E.g.\n",
    "\n",
    "|  AEP (%) / duration (min) | 30 | 60 | 360 | 720 |\n",
    "| --- | --- | --- | --- | --- |\n",
    "| **2**  |     |    |     |    |\n",
    "| **5**  |    |    |     |    |\n",
    "| **10**  |    |    |     |    |\n",
    "| **20**  |    |    |     |    |\n",
    "| **50**  |    |    |     |    |\n",
    "| **63.20** |    |    |     |    |\n",
    "\n",
    "`TargetIFDdurationsEst` are all the durations present in the TargetIFD file. `TargetIFDdurations` are the durations you wish to condition. \n",
    "\n",
    "Point to the location(s) where you have stored the example data."
   ]
  },
  {
   "cell_type": "markdown",
   "metadata": {},
   "source": [
    "```python\n",
    "from pyraingen.ifdcond import ifdcond\n",
    "\n",
    "fileNameInput =\"../src/pyraingen/data/example/ifd/subdaily_012345.nc\"\n",
    "fileNameOutput = \"../src/pyraingen/data/example/ifd/cond_subdaily_012345.nc\"\n",
    "fileNameTargetIFD = \"../src/pyraingen/data/example/ifd/012345_ifds.csv\"\n",
    "TargetIFDdurationsEst = [30, 60, 360, 720]\n",
    "TargetIFDdurations = [30, 60, 360, 720]\n",
    "AEP = [63.20, 50, 20, 10, 5, 2]\n",
    "\n",
    "ifdcond(fileNameInput, fileNameOutput, fileNameTargetIFD, \n",
    "        nSims=10, TargetIFDdurationsEst=TargetIFDdurationsEst,\n",
    "       TargetIFDdurations=TargetIFDdurations, AEP=AEP, plot=True)\n",
    "```"
   ]
  },
  {
   "cell_type": "markdown",
   "metadata": {},
   "source": [
    "![ifd cond plot](ifdcond_plot.png)"
   ]
  }
 ],
 "metadata": {
  "kernelspec": {
   "display_name": "Python 3 (ipykernel)",
   "language": "python",
   "name": "python3"
  },
  "language_info": {
   "codemirror_mode": {
    "name": "ipython",
    "version": 3
   },
   "file_extension": ".py",
   "mimetype": "text/x-python",
   "name": "python",
   "nbconvert_exporter": "python",
   "pygments_lexer": "ipython3",
   "version": "3.8.5"
  }
 },
 "nbformat": 4,
 "nbformat_minor": 4
}
